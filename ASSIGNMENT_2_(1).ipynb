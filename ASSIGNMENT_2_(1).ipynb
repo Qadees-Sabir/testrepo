{
  "nbformat": 4,
  "nbformat_minor": 0,
  "metadata": {
    "colab": {
      "provenance": [],
      "gpuType": "T4",
      "authorship_tag": "ABX9TyP3dBxBDW+mcMSMVirObyfQ",
      "include_colab_link": true
    },
    "kernelspec": {
      "name": "python3",
      "display_name": "Python 3"
    },
    "language_info": {
      "name": "python"
    },
    "accelerator": "GPU"
  },
  "cells": [
    {
      "cell_type": "markdown",
      "metadata": {
        "id": "view-in-github",
        "colab_type": "text"
      },
      "source": [
        "<a href=\"https://colab.research.google.com/github/Qadees-Sabir/testrepo/blob/main/ASSIGNMENT_2_(1).ipynb\" target=\"_parent\"><img src=\"https://colab.research.google.com/assets/colab-badge.svg\" alt=\"Open In Colab\"/></a>"
      ]
    },
    {
      "cell_type": "code",
      "execution_count": null,
      "metadata": {
        "colab": {
          "base_uri": "https://localhost:8080/"
        },
        "id": "4MMaxkfIbXtq",
        "outputId": "561b0e1e-24ae-46b6-b76d-ca7b9c8c712e"
      },
      "outputs": [
        {
          "output_type": "stream",
          "name": "stdout",
          "text": [
            "Mounted at /content/drive\n"
          ]
        }
      ],
      "source": [
        "\n",
        "from google.colab import drive\n",
        "drive.mount('/content/drive')"
      ]
    },
    {
      "cell_type": "code",
      "source": [
        "\n",
        "%cd /content/drive/MyDrive/data_assign_2\n"
      ],
      "metadata": {
        "colab": {
          "base_uri": "https://localhost:8080/"
        },
        "id": "-YgjK56FcMaY",
        "outputId": "a1a6541d-1929-4a2b-923d-b90a3dcacb7b"
      },
      "execution_count": null,
      "outputs": [
        {
          "output_type": "stream",
          "name": "stdout",
          "text": [
            "/content/drive/MyDrive/data_assign_2\n"
          ]
        }
      ]
    },
    {
      "cell_type": "code",
      "source": [
        "import tensorflow as tf\n",
        "import pandas as pd\n",
        "from tensorflow.keras.models import Sequential\n",
        "from tensorflow.keras.layers import Conv2D, MaxPooling2D, Flatten, Dense, Dropout\n",
        "from tensorflow.keras.preprocessing.image import ImageDataGenerator\n",
        "from sklearn.model_selection import train_test_split\n",
        "import os"
      ],
      "metadata": {
        "id": "ZQt9o7eEcOsN"
      },
      "execution_count": null,
      "outputs": []
    },
    {
      "cell_type": "code",
      "source": [
        "# Define paths to your dataset\n",
        "dataset_path = 'hand_written_digits'\n",
        "\n",
        "# Define the image dimensions\n",
        "img_width, img_height = 100, 100"
      ],
      "metadata": {
        "id": "PwVBG2ppcOtM"
      },
      "execution_count": null,
      "outputs": []
    },
    {
      "cell_type": "code",
      "source": [
        "def split_dataset(dataset_path, validation_split=0.2):\n",
        "    classes = ['0_digits', '1_digits', '2_digits']\n",
        "\n",
        "    train_data = []\n",
        "    val_data = []\n",
        "\n",
        "    for class_name in classes:\n",
        "        class_path = os.path.join(dataset_path, class_name)\n",
        "        image_list = os.listdir(class_path)\n",
        "        train_images, val_images = train_test_split(image_list, test_size=validation_split, random_state=42)\n",
        "        train_data.extend([(os.path.join(class_path, img), class_name) for img in train_images])\n",
        "        val_data.extend([(os.path.join(class_path, img), class_name) for img in val_images])\n",
        "\n",
        "    return train_data, val_data\n",
        "\n",
        "train_data, val_data = split_dataset(dataset_path)"
      ],
      "metadata": {
        "id": "owQg0QOVcOw7"
      },
      "execution_count": null,
      "outputs": []
    },
    {
      "cell_type": "code",
      "source": [
        "\n",
        "# Data augmentation\n",
        "datagen = ImageDataGenerator(\n",
        "    rescale=1.0/255.0,\n",
        "    rotation_range=10,\n",
        "    width_shift_range=0.1,\n",
        "    height_shift_range=0.1,\n",
        "    shear_range=0.2,\n",
        "    zoom_range=0.2,\n",
        "    horizontal_flip=False,\n",
        "    vertical_flip=False\n",
        ")"
      ],
      "metadata": {
        "id": "7mL2i5i8cOyX"
      },
      "execution_count": null,
      "outputs": []
    },
    {
      "cell_type": "code",
      "source": [
        "# Define the model\n",
        "model = Sequential()\n",
        "\n",
        "model.add(Conv2D(32, (5, 5), activation='relu', input_shape=(img_width, img_height, 3), padding='valid'))\n",
        "model.add(MaxPooling2D(pool_size=(2, 2)))\n",
        "\n",
        "model.add(Conv2D(64, (5, 5), activation='relu', padding='valid'))\n",
        "model.add(MaxPooling2D(pool_size=(2, 2)))\n",
        "\n",
        "model.add(Flatten())\n",
        "model.add(Dense(128, activation='relu'))\n",
        "model.add(Dropout(0.5))\n",
        "model.add(Dense(3, activation='softmax'))"
      ],
      "metadata": {
        "id": "qQA7i1njcsMn"
      },
      "execution_count": null,
      "outputs": []
    },
    {
      "cell_type": "code",
      "source": [
        "# Compile the model\n",
        "model.compile(optimizer='adam', loss='categorical_crossentropy', metrics=['accuracy'])"
      ],
      "metadata": {
        "id": "QxH0_WZ9csNs"
      },
      "execution_count": null,
      "outputs": []
    },
    {
      "cell_type": "code",
      "source": [
        "\n",
        "# Train the model\n",
        "batch_size = 32\n",
        "train_generator = datagen.flow_from_dataframe(dataframe=pd.DataFrame(train_data, columns=['filename', 'class']),\n",
        "                                              x_col='filename',\n",
        "                                              y_col='class',\n",
        "                                              target_size=(img_width, img_height),\n",
        "                                              batch_size=batch_size,\n",
        "                                              class_mode='categorical')\n",
        "val_generator = datagen.flow_from_dataframe(dataframe=pd.DataFrame(val_data, columns=['filename', 'class']),\n",
        "                                            x_col='filename',\n",
        "                                            y_col='class',\n",
        "                                            target_size=(img_width, img_height),\n",
        "                                            batch_size=batch_size,\n",
        "                                            class_mode='categorical')"
      ],
      "metadata": {
        "colab": {
          "base_uri": "https://localhost:8080/"
        },
        "id": "HVGQXokrcsSY",
        "outputId": "4275f0f2-2712-4021-a313-8bff3d2d7005"
      },
      "execution_count": null,
      "outputs": [
        {
          "output_type": "stream",
          "name": "stdout",
          "text": [
            "Found 3727 validated image filenames belonging to 3 classes.\n",
            "Found 934 validated image filenames belonging to 3 classes.\n"
          ]
        }
      ]
    },
    {
      "cell_type": "code",
      "source": [
        "\n",
        "# Train the model\n",
        "epochs = 10\n",
        "model.fit(train_generator, validation_data=val_generator, epochs=epochs)"
      ],
      "metadata": {
        "colab": {
          "base_uri": "https://localhost:8080/"
        },
        "id": "ZgCv7TqvcO1R",
        "outputId": "94f8e04e-cca4-4809-e112-832f76bfa0a5"
      },
      "execution_count": null,
      "outputs": [
        {
          "output_type": "stream",
          "name": "stdout",
          "text": [
            "Epoch 1/10\n",
            "117/117 [==============================] - 952s 8s/step - loss: 0.3240 - accuracy: 0.8790 - val_loss: 0.1127 - val_accuracy: 0.9604\n",
            "Epoch 2/10\n",
            "117/117 [==============================] - 23s 193ms/step - loss: 0.1107 - accuracy: 0.9646 - val_loss: 0.0765 - val_accuracy: 0.9754\n",
            "Epoch 3/10\n",
            "117/117 [==============================] - 21s 181ms/step - loss: 0.0899 - accuracy: 0.9705 - val_loss: 0.0586 - val_accuracy: 0.9861\n",
            "Epoch 4/10\n",
            "117/117 [==============================] - 22s 186ms/step - loss: 0.0756 - accuracy: 0.9756 - val_loss: 0.0364 - val_accuracy: 0.9893\n",
            "Epoch 5/10\n",
            "117/117 [==============================] - 21s 177ms/step - loss: 0.0564 - accuracy: 0.9823 - val_loss: 0.0396 - val_accuracy: 0.9893\n",
            "Epoch 6/10\n",
            "117/117 [==============================] - 22s 189ms/step - loss: 0.0480 - accuracy: 0.9855 - val_loss: 0.0830 - val_accuracy: 0.9829\n",
            "Epoch 7/10\n",
            "117/117 [==============================] - 21s 179ms/step - loss: 0.0533 - accuracy: 0.9834 - val_loss: 0.0745 - val_accuracy: 0.9764\n",
            "Epoch 8/10\n",
            "117/117 [==============================] - 25s 213ms/step - loss: 0.0452 - accuracy: 0.9869 - val_loss: 0.0347 - val_accuracy: 0.9893\n",
            "Epoch 9/10\n",
            "117/117 [==============================] - 22s 189ms/step - loss: 0.0481 - accuracy: 0.9863 - val_loss: 0.0256 - val_accuracy: 0.9904\n",
            "Epoch 10/10\n",
            "117/117 [==============================] - 22s 190ms/step - loss: 0.0419 - accuracy: 0.9877 - val_loss: 0.0396 - val_accuracy: 0.9893\n"
          ]
        },
        {
          "output_type": "execute_result",
          "data": {
            "text/plain": [
              "<keras.src.callbacks.History at 0x7eef006cd6c0>"
            ]
          },
          "metadata": {},
          "execution_count": 12
        }
      ]
    },
    {
      "cell_type": "code",
      "source": [
        "\n",
        "# Evaluate the model\n",
        "validation_accuracy = model.evaluate(val_generator)[1]\n",
        "print(f'Validation accuracy: {validation_accuracy}')\n"
      ],
      "metadata": {
        "colab": {
          "base_uri": "https://localhost:8080/"
        },
        "id": "lxEPI4cvcO3G",
        "outputId": "0975389b-48bd-4fe0-c1ae-8aa7ff9c1fd3"
      },
      "execution_count": null,
      "outputs": [
        {
          "output_type": "stream",
          "name": "stdout",
          "text": [
            "30/30 [==============================] - 5s 163ms/step - loss: 0.0394 - accuracy: 0.9872\n",
            "Validation accuracy: 0.9871520400047302\n"
          ]
        }
      ]
    }
  ]
}